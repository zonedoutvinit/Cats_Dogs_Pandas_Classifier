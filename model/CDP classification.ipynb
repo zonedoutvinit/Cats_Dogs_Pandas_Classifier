{
 "cells": [
  {
   "cell_type": "code",
   "execution_count": 1,
   "source": [
    "import torch\r\n",
    "import torch.nn as nn\r\n",
    "from torchvision.transforms import transforms\r\n",
    "import numpy as np\r\n",
    "from torch.autograd import Variable\r\n",
    "from torchvision.models import squeezenet1_1\r\n",
    "import torch.functional as F\r\n",
    "from io import open\r\n",
    "import os\r\n",
    "from PIL import Image\r\n",
    "import pathlib\r\n",
    "import glob\r\n",
    "import cv2"
   ],
   "outputs": [],
   "metadata": {}
  },
  {
   "cell_type": "code",
   "execution_count": 2,
   "source": [
    "train_path='../datasets/test'\r\n",
    "pred_path='../datasets/pred'"
   ],
   "outputs": [],
   "metadata": {}
  },
  {
   "cell_type": "code",
   "execution_count": 3,
   "source": [
    "root=pathlib.Path(train_path)\r\n",
    "classes=sorted([j.name.split('/')[-1] for j in root.iterdir()])"
   ],
   "outputs": [],
   "metadata": {}
  },
  {
   "cell_type": "code",
   "execution_count": 4,
   "source": [
    "#CNN Network\r\n",
    "\r\n",
    "class ConvNet(nn.Module):\r\n",
    "    def __init__(self,num_classes=3):\r\n",
    "        super(ConvNet,self).__init__()\r\n",
    "        \r\n",
    "        #Output size after convolution filter\r\n",
    "        #((w-f+2P)/s) +1\r\n",
    "        \r\n",
    "        #Input shape= (256,3,150,150)\r\n",
    "        \r\n",
    "        self.conv1=nn.Conv2d(in_channels=3,out_channels=12,kernel_size=3,stride=1,padding=1)\r\n",
    "        #Shape= (256,12,150,150)\r\n",
    "        self.bn1=nn.BatchNorm2d(num_features=12)\r\n",
    "        #Shape= (256,12,150,150)\r\n",
    "        self.relu1=nn.ReLU()\r\n",
    "        #Shape= (256,12,150,150)\r\n",
    "        \r\n",
    "        self.pool=nn.MaxPool2d(kernel_size=2)\r\n",
    "        #Reduce the image size be factor 2\r\n",
    "        #Shape= (256,12,75,75)\r\n",
    "        \r\n",
    "        \r\n",
    "        self.conv2=nn.Conv2d(in_channels=12,out_channels=20,kernel_size=3,stride=1,padding=1)\r\n",
    "        #Shape= (256,20,75,75)\r\n",
    "        self.relu2=nn.ReLU()\r\n",
    "        #Shape= (256,20,75,75)\r\n",
    "        \r\n",
    "        \r\n",
    "        \r\n",
    "        self.conv3=nn.Conv2d(in_channels=20,out_channels=32,kernel_size=3,stride=1,padding=1)\r\n",
    "        #Shape= (256,32,75,75)\r\n",
    "        self.bn3=nn.BatchNorm2d(num_features=32)\r\n",
    "        #Shape= (256,32,75,75)\r\n",
    "        self.relu3=nn.ReLU()\r\n",
    "        #Shape= (256,32,75,75)\r\n",
    "        \r\n",
    "        \r\n",
    "        self.fc=nn.Linear(in_features=75 * 75 * 32,out_features=num_classes)\r\n",
    "        \r\n",
    "        \r\n",
    "        \r\n",
    "        #Feed forwad function\r\n",
    "        \r\n",
    "    def forward(self,input):\r\n",
    "        output=self.conv1(input)\r\n",
    "        output=self.bn1(output)\r\n",
    "        output=self.relu1(output)\r\n",
    "            \r\n",
    "        output=self.pool(output)\r\n",
    "            \r\n",
    "        output=self.conv2(output)\r\n",
    "        output=self.relu2(output)\r\n",
    "            \r\n",
    "        output=self.conv3(output)\r\n",
    "        output=self.bn3(output)\r\n",
    "        output=self.relu3(output)\r\n",
    "            \r\n",
    "            \r\n",
    "            #Above output will be in matrix form, with shape (256,32,75,75)\r\n",
    "            \r\n",
    "        output=output.view(-1,32*75*75)\r\n",
    "            \r\n",
    "            \r\n",
    "        output=self.fc(output)\r\n",
    "            \r\n",
    "        return output"
   ],
   "outputs": [],
   "metadata": {}
  },
  {
   "cell_type": "code",
   "execution_count": 5,
   "source": [
    "checkpoint=torch.load('bestsofar.model')\r\n",
    "model=ConvNet(num_classes=3)\r\n",
    "model.load_state_dict(checkpoint)\r\n",
    "model.eval()"
   ],
   "outputs": [
    {
     "output_type": "execute_result",
     "data": {
      "text/plain": [
       "ConvNet(\n",
       "  (conv1): Conv2d(3, 12, kernel_size=(3, 3), stride=(1, 1), padding=(1, 1))\n",
       "  (bn1): BatchNorm2d(12, eps=1e-05, momentum=0.1, affine=True, track_running_stats=True)\n",
       "  (relu1): ReLU()\n",
       "  (pool): MaxPool2d(kernel_size=2, stride=2, padding=0, dilation=1, ceil_mode=False)\n",
       "  (conv2): Conv2d(12, 20, kernel_size=(3, 3), stride=(1, 1), padding=(1, 1))\n",
       "  (relu2): ReLU()\n",
       "  (conv3): Conv2d(20, 32, kernel_size=(3, 3), stride=(1, 1), padding=(1, 1))\n",
       "  (bn3): BatchNorm2d(32, eps=1e-05, momentum=0.1, affine=True, track_running_stats=True)\n",
       "  (relu3): ReLU()\n",
       "  (fc): Linear(in_features=180000, out_features=3, bias=True)\n",
       ")"
      ]
     },
     "metadata": {},
     "execution_count": 5
    }
   ],
   "metadata": {}
  },
  {
   "cell_type": "code",
   "execution_count": 6,
   "source": [
    "#Transforms\r\n",
    "transformer=transforms.Compose([\r\n",
    "    transforms.Resize((150,150)),\r\n",
    "    transforms.ToTensor(),  #0-255 to 0-1, numpy to tensors\r\n",
    "    transforms.Normalize([0.5,0.5,0.5], # 0-1 to [-1,1] , formula (x-mean)/std\r\n",
    "                        [0.5,0.5,0.5])\r\n",
    "])"
   ],
   "outputs": [],
   "metadata": {}
  },
  {
   "cell_type": "code",
   "execution_count": 7,
   "source": [
    "#prediction function\r\n",
    "def prediction(img_path,transformer):\r\n",
    "    \r\n",
    "    image=Image.open(img_path)\r\n",
    "    \r\n",
    "    image_tensor=transformer(image).float()\r\n",
    "    \r\n",
    "    \r\n",
    "    image_tensor=image_tensor.unsqueeze_(0)\r\n",
    "        \r\n",
    "    input=Variable(image_tensor)\r\n",
    "    \r\n",
    "    output=model(input)\r\n",
    "    \r\n",
    "    index=output.data.numpy().argmax()\r\n",
    "    \r\n",
    "    pred=classes[index]\r\n",
    "    \r\n",
    "    return pred"
   ],
   "outputs": [],
   "metadata": {}
  },
  {
   "cell_type": "code",
   "execution_count": 8,
   "source": [
    "images_path=glob.glob(pred_path+'/*.jpg')"
   ],
   "outputs": [],
   "metadata": {}
  },
  {
   "cell_type": "code",
   "execution_count": 9,
   "source": [
    "pred_dict={}\r\n",
    "\r\n",
    "for i in images_path:\r\n",
    "    pred_dict[i[i.rfind('/')+1:]]=prediction(i,transformer)"
   ],
   "outputs": [
    {
     "output_type": "stream",
     "name": "stderr",
     "text": [
      "C:\\Users\\Vinit\\anaconda3\\lib\\site-packages\\torch\\nn\\functional.py:718: UserWarning: Named tensors and all their associated APIs are an experimental feature and subject to change. Please do not use them for anything important until they are released as stable. (Triggered internally at  ..\\c10/core/TensorImpl.h:1156.)\n",
      "  return torch.max_pool2d(input, kernel_size, stride, padding, dilation, ceil_mode)\n"
     ]
    }
   ],
   "metadata": {}
  },
  {
   "cell_type": "code",
   "execution_count": 10,
   "source": [
    "pred_dict"
   ],
   "outputs": [
    {
     "output_type": "execute_result",
     "data": {
      "text/plain": [
       "{'pred\\\\cat.jpg': 'cats',\n",
       " 'pred\\\\cat2.jpg': 'cats',\n",
       " 'pred\\\\cat3.jpg': 'cats',\n",
       " 'pred\\\\cat4.jpg': 'cats',\n",
       " 'pred\\\\cat5.jpg': 'dogs',\n",
       " 'pred\\\\cat6.jpg': 'cats',\n",
       " 'pred\\\\dog.jpg': 'dogs',\n",
       " 'pred\\\\dog2.jpg': 'dogs',\n",
       " 'pred\\\\dog3.jpg': 'dogs',\n",
       " 'pred\\\\dog4.jpg': 'dogs',\n",
       " 'pred\\\\dog5.jpg': 'cats',\n",
       " 'pred\\\\dog6.jpg': 'cats',\n",
       " 'pred\\\\panda.jpg': 'pandas',\n",
       " 'pred\\\\panda2.jpg': 'pandas',\n",
       " 'pred\\\\panda3.jpg': 'pandas',\n",
       " 'pred\\\\panda4.jpg': 'pandas',\n",
       " 'pred\\\\panda5.jpg': 'pandas',\n",
       " 'pred\\\\panda6.jpg': 'pandas'}"
      ]
     },
     "metadata": {},
     "execution_count": 10
    }
   ],
   "metadata": {}
  },
  {
   "cell_type": "code",
   "execution_count": null,
   "source": [],
   "outputs": [],
   "metadata": {}
  }
 ],
 "metadata": {
  "kernelspec": {
   "name": "python3",
   "display_name": "Python 3.8.11 64-bit ('base': conda)"
  },
  "language_info": {
   "codemirror_mode": {
    "name": "ipython",
    "version": 3
   },
   "file_extension": ".py",
   "mimetype": "text/x-python",
   "name": "python",
   "nbconvert_exporter": "python",
   "pygments_lexer": "ipython3",
   "version": "3.8.11"
  },
  "interpreter": {
   "hash": "c12c9a3ab46614ebb53a25bfb0e0365553fe12c26a768f893745d73ed1857dda"
  }
 },
 "nbformat": 4,
 "nbformat_minor": 5
}